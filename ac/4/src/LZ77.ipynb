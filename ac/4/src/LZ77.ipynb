{
 "metadata": {
  "name": "",
  "signature": "sha256:bfc10fa474ce12f571366d1b52c38d8a93786b7b85d1e9ebecf80798b89911c9"
 },
 "nbformat": 3,
 "nbformat_minor": 0,
 "worksheets": [
  {
   "cells": [
    {
     "cell_type": "heading",
     "level": 1,
     "metadata": {},
     "source": [
      "Exercici AvCont-4(a): Compressi\u00f3 LZ-77"
     ]
    },
    {
     "cell_type": "code",
     "collapsed": false,
     "input": [
      "'''\n",
      "Implementad en Java un compresor/descompresor de datos binarios mediante el algoritmo LZ-77. Debe cumplir las siguientes\n",
      "especificaciones:\n",
      "\n",
      "1. Formato de entrada y salida de datos: String binaria (unos y ceros) de longitud arbitraria.\n",
      "2. Posibilidad de configurar a longitud de la Ventana de Entrada (Ment) y Ventana Deslizante (Mdes) variables.\n",
      "3. Control de configuraci\u00f3n v\u00e1lida; Ment y Mdes deben ser:\n",
      "    potencias de 2\n",
      "    Ment<=Mdes\n",
      "    Mdes+Ment<= longitud datos a comprimir\n",
      "    \n",
      "4. Formato datos comprimidos: String binaria con\n",
      "    1. Cabecera con los primeros \u201cMdes\u201d bits de los datos de entrada\n",
      "    2. Almacenar TODAS las coincidencias (L,D) (incluso las de L=1) en formato binario de longitud fija (log2(Ment) + log2(Mdes) bits en total)\n",
      "\n",
      "    Ejemplo: si Ment = 4 y Mdes = 8\n",
      "        (1,1) se guarda como \u201c01 001\u201d\n",
      "        (2,6) se guarda como \u201c10 110\u201d\n",
      "        (3,8) se guarda como \u201c11 000\u201d\n",
      "        (4,5) se guarda como \u201c00 101\u201d\n",
      "        \n",
      "    3. La b\u00fasqueda de coincidencias finaliza cuando los bits que quedan por procesar s\u00f3n menos que Ment.\n",
      "    En tal caso, guardar estos bits restantes al final de la cadena comprimida."
     ],
     "language": "python",
     "metadata": {},
     "outputs": []
    },
    {
     "cell_type": "code",
     "collapsed": false,
     "input": [
      "import numpy as np\n",
      "\n",
      "# * * * * * * * * * * * * * * * * * * * * *\n",
      "# *        TECNOLOGIES MULTIMEDIA         *\n",
      "# * - - - - - - - - - - - - - - - - - - - *\n",
      "# *  Compression Alg based on Lempel-Ziv  *\n",
      "# *                   @Vicent Roig Ripoll *\n",
      "# * * * * * * * * * * * * * * * * * * * * *\n",
      "class Compressor:\n",
      "\n",
      "    def __init__(self):\n",
      "        self.MentLength = 4 #tama\u00f1o ventana de entrada\n",
      "        self.MdesLength = 8 #tama\u00f1o ventana deslizante \n",
      "        self.pr = int(np.log2(self.MentLength))\n",
      "        self.pt = int(np.log2(self.MdesLength))\n",
      "        \n",
      "        \n",
      "    def compress(self, data, MentLength = None, MdesLength = None):\n",
      "        \"\"\"Compresses text data using the LZ77 algorithm.\"\"\"\n",
      "        \n",
      "        if MentLength == None:\n",
      "            MentLength = self.MentLength\n",
      "            \n",
      "        if MdesLength == None:\n",
      "            MdesLength = self.MdesLength\n",
      "            \n",
      "        if ((self.__is_power2(MentLength)==False) or (self.__is_power2(MdesLength)==False)):\n",
      "            raise Exception(\">> MdesLenght AND MentLength MUST be a power of 2\")\n",
      "        \n",
      "        if MentLength > MdesLength:\n",
      "            raise Exception(\">> MdesLenght(%d) should be GREATER than MentLength(%d)\" % (MdesLength, MentLength))\n",
      "            \n",
      "        if MdesLength+MentLength > len(data):\n",
      "            raise Exception(\">> MdesLenght AND MentLength overflows data input\")\n",
      "        \n",
      "\n",
      "        pos = 0\n",
      "        lastPos = len(data)\n",
      "        compressed = ''.join(str(e) for e in data[pos : pos + MdesLength]) #compression saved initial sliding window values\n",
      "        \n",
      "        while pos < lastPos:\n",
      "            \n",
      "            #end condition\n",
      "            if len(data[pos + MdesLength :]) < MentLength:\n",
      "                compressed += ''.join(str(e) for e in data[pos + MdesLength :])\n",
      "                break\n",
      "            \n",
      "            mdes = data[pos : pos + MdesLength]\n",
      "            str1 = ''.join(str(e) for e in mdes)\n",
      "            \n",
      "            ment = data[pos + MdesLength : pos + MdesLength + MentLength]\n",
      "            for i in range(len(ment)):\n",
      "                #print mdes, ment[:len(ment)-i]\n",
      "                str2 = ''.join(str(e) for e in ment[:len(ment)-i])\n",
      "  \n",
      "                index = str1.rfind(str2)\n",
      "                if (index!=-1):\n",
      "                    #print (len(str2), len(str1)-index)#, format(len(str2), '0'+str(self.pr)+'b')[-self.pr::], format(len(str1)-index, '0'+str(self.pt)+'b')[-self.pt::]\n",
      "                    compressed += format(len(str2), '0'+str(self.pr)+'b')[-self.pr::] + format(len(str1)-index, '0'+str(self.pt)+'b')[-self.pt::]\n",
      "                    pos += len(str2)\n",
      "                    break\n",
      "\n",
      "        return compressed\n",
      "\n",
      "\n",
      "    def decompress(self, data):\n",
      "        \"\"\"Decompresses LZ77 compressed text data\"\"\"\n",
      "        \n",
      "        data = list(data)\n",
      "        lastPos = len(data)\n",
      "        decompressed = []\n",
      "        \n",
      "        for i in range(self.MdesLength): \n",
      "            decompressed += data.pop(0)\n",
      "        \n",
      "        while len(data)>1:\n",
      "         \n",
      "            if(len(data) > (2**self.pr-1)):\n",
      "                \n",
      "                L = [int(i) for i in data[:self.pr]]\n",
      "                D = [int(i) for i in data[self.pr:self.pr+self.pt]]\n",
      "\n",
      "                for i in range(self.pr+self.pt):\n",
      "                    data.pop(0)\n",
      "                \n",
      "                #controls if we need to add new MSB to 1\n",
      "                if(sum(L)==0):\n",
      "                    L = ['1']+L\n",
      "                if(sum(D)==0):\n",
      "                    D = ['1']+D\n",
      "                    \n",
      "                # retrieve decimal lenght and distance from binary string   \n",
      "                L = int(''.join(str(e) for e in L), 2)\n",
      "                D = int(''.join(str(e) for e in D), 2)\n",
      "\n",
      "                #print (L,D), decompressed, decompressed[-D:][:L]#decompressed[-D:-D+L]\n",
      "                decompressed += decompressed[-D:][:L]\n",
      "                    \n",
      "            else:\n",
      "                decompressed += data\n",
      "                break\n",
      "            \n",
      "        return ''.join(str(e) for e in decompressed)\n",
      "    \n",
      "    \n",
      "    def __is_power2(self, num):\n",
      "        'states if a number is a power of two'\n",
      "        return num != 0 and ((num & (num - 1)) == 0)"
     ],
     "language": "python",
     "metadata": {},
     "outputs": [],
     "prompt_number": 1
    },
    {
     "cell_type": "heading",
     "level": 2,
     "metadata": {},
     "source": [
      "Execucions i respostes als apartats"
     ]
    },
    {
     "cell_type": "markdown",
     "metadata": {},
     "source": [
      "1. Comprobad que el programa comprime y descomprime correctamente una cadena de 25 bits aleatorios con Mdes = 8 y Ment = 4"
     ]
    },
    {
     "cell_type": "code",
     "collapsed": false,
     "input": [
      "#Testing:\n",
      "\n",
      "#data = [1,1,0,1,1,1,1,0,1,0,1,0,0,1,1,1,1,0,1,0,1,0,0,0,1,0,0,0,1] #Exc. 3 as an example\n",
      "\n",
      "N = 25\n",
      "data = np.random.choice([0, 1], size=N)\n",
      "data[0] = 1 #let's set 10 the first 2 bits to avoid homegeneous initial slideWin\n",
      "data[1] = 0\n",
      "\n",
      "compressor = Compressor();\n",
      "compr = compressor.compress(data)\n",
      "dcompr = compressor.decompress(compr)\n",
      "\n",
      "print 'Input:\\t\\t', ''.join(str(e) for e in data), len(data)\n",
      "print 'Compressed:\\t', compr, len(compr)\n",
      "print 'Decompressed:\\t', dcompr, len(dcompr)"
     ],
     "language": "python",
     "metadata": {},
     "outputs": [
      {
       "output_type": "stream",
       "stream": "stdout",
       "text": [
        "Input:\t\t1010101011001111110101110 25\n",
        "Compressed:\t101010100110101111001010110010100010 36\n",
        "Decompressed:\t10101010110011111111111 23\n"
       ]
      }
     ],
     "prompt_number": 2
    },
    {
     "cell_type": "markdown",
     "metadata": {},
     "source": [
      "Utilizad el programa anterior para determinar si es posible, ajustando los valores de Mdes y Ment, conseguir comprimir datos aleatorios mediante LZ77 (es decir, que la cadena de datos  originales sea m\u00e1s larga que la cadena comprimida).\u00bfPor qu\u00e9? \u00bfCu\u00e1l es la m\u00e1xima compresi\u00f3n que logr\u00e1is? \u00bfCon qu\u00e9 valores? (Ayuda: utilizad una cadena de datos de entrada de, por lo menos, \n",
      "10000 bits aleatorios. Ajustad Mdes y Ment entre 2 y 2048)."
     ]
    },
    {
     "cell_type": "code",
     "collapsed": false,
     "input": [
      "#Testing:\n",
      "\n",
      "N = 10000\n",
      "data = np.random.choice([1,0], size=N)\n",
      "data[0] = 1 #let's set to 10 the first bits avoiding homegeneous initial slideWin\n",
      "data[1] = 0\n",
      "\n",
      "compressor = Compressor();\n",
      "print 'Input length:\\t', len(data)\n",
      "print 'Compressed:\\t', len(compressor.compress(data, 512, 1024))"
     ],
     "language": "python",
     "metadata": {},
     "outputs": [
      {
       "output_type": "stream",
       "stream": "stdout",
       "text": [
        "Input length:\t10000\n",
        "Compressed:\t1381"
       ]
      },
      {
       "output_type": "stream",
       "stream": "stdout",
       "text": [
        "\n"
       ]
      }
     ],
     "prompt_number": 130
    },
    {
     "cell_type": "raw",
     "metadata": {},
     "source": [
      "#*****************\n",
      "# log.txt\n",
      "#*****************\n",
      "\n",
      "#Ment = 4 / Mdes = 8\n",
      "Input length:\t29\n",
      "Compressed:     41\n",
      "\n",
      "#Ment = 512 / Mdes = 1024\n",
      "Input lenth:    10000\n",
      "Compressed:     5402\n",
      "\n",
      "#Ment = 1024 / Mdes = 2048\n",
      "Input length:   10000\n",
      "Compressed:     5653\n",
      "\n",
      "#Ment = 1024 / Mdes = 2048\n",
      "Input length:\t10000\n",
      "Compressed:\t    6156\n",
      "\n",
      "#Ment = 512 / Mdes = 1024\n",
      "Input length:\t10000\n",
      "Compressed:\t    898"
     ]
    },
    {
     "cell_type": "markdown",
     "metadata": {},
     "source": [
      "Observamos que para una cadena relativamente peque\u00f1a de bits aleatorios (<200), el algoritmo LZ77 no nos proporciona capacidad de compresi\u00f3n en la gran mayor\u00eda de casos (distribuci\u00f3n heterog\u00e9neos de bits). Esto es debido a que \n",
      "la propia codificaci\u00f3n requiere guardar la informaci\u00f3n que nos permita recuperar los datos originales, y en caso de existir baja redundancia, en los casos en los que tenemos ventanas peque\u00f1as no seremos capaces de detectar patrones largos y \u00e9sta informaci\u00f3n generada acabar\u00e1 ocupando m\u00e1s que que los datos propiamente dichos.\n",
      "\n",
      "Esto tiene sentido debido a que la b\u00faqueda de patrones en tan pocos bits con un tama\u00f1o tan peque\u00f1o para las ventanas hace que podamos encontrar pocos \"hits\" a comprimir. A\u00fan as\u00ed si probamos con un vector de 1's o 0's comprobaremos que efectivamente si puede comprimir con \u00e9xito (recordemos que establecemos lo dos bits distintos inicialmente para evitar problemas), aunque obviamente no es un test realista.\n",
      "\n",
      "La m\u00e1xima compresi\u00f3n en repetidos ensayos para cadenas de m\u00e1s de 5000bits se situa en un ~40%. Una compresi\u00f3n muy aceptable."
     ]
    }
   ],
   "metadata": {}
  }
 ]
}